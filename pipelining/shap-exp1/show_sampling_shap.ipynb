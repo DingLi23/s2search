{
 "cells": [
  {
   "cell_type": "code",
   "execution_count": 80,
   "metadata": {},
   "outputs": [],
   "source": [
    "%reload_ext autoreload\n",
    "%autoreload 2\n",
    "import numpy as np, sys, os, pandas as pd,json, os\n",
    "sys.path.insert(1, '../../')\n",
    "from getting_data import read_conf"
   ]
  },
  {
   "cell_type": "code",
   "execution_count": 81,
   "metadata": {},
   "outputs": [],
   "source": [
    "_, samples, __ = read_conf('.')\n",
    "\n",
    "sv = []\n",
    "bv = []\n",
    "\n",
    "for sample_key in samples.keys():\n",
    "    sample_tasks = samples[sample_key]\n",
    "    for task in sample_tasks:\n",
    "        rg = task['range']\n",
    "        m_file = os.path.join('scores', f\"{sample_key}_shap_sampling_{rg[0]}_{rg[1]}.npz\")\n",
    "        if os.path.exists(m_file):\n",
    "            ld = np.load(m_file)\n",
    "            \n",
    "            shap_values = ld['shap_values']\n",
    "            base_values = ld['base_values']\n",
    "            \n",
    "            sv.extend(shap_values)\n",
    "            bv.extend(base_values)"
   ]
  },
  {
   "cell_type": "code",
   "execution_count": 82,
   "metadata": {},
   "outputs": [
    {
     "name": "stdout",
     "output_type": "stream",
     "text": [
      "[-0.71969641  2.29092287  0.          0.         -0.67590413 -0.15244064]\n",
      "[-0.61513385 12.79816914  0.          0.          0.37645837 -0.10212747]\n",
      "[-2.64762803 -5.85143355 -0.26644749  0.          0.58455945 -0.10473596]\n",
      "[ 6.3251833  -3.31235162 -0.08595746  0.          0.4427309   0.08354999]\n",
      "[ 2.86207873 10.60549172  0.          0.          0.05908199 -0.04562118]\n",
      "[-2.55278855 -6.13526271 -0.08549287  0.          0.58253983 -0.15206497]\n",
      "[-0.94013305  2.57649074  0.          0.          0.12312017  0.01509808]\n",
      "[ 2.78678649  0.29428172 -0.08575498  0.          0.12609335  0.03485599]\n",
      "[-2.5604339  -6.12885234 -0.08869118  0.         -0.51413065 -0.08532433]\n",
      "[-0.87513386  2.61323476 -0.14209858  0.          0.13185057  0.30894031]\n",
      "[-2.70215499 -6.10296314  0.          0.          0.14705719 -0.0283421 ]\n",
      "[-2.59401752 -6.04491839 -0.08687674  0.          0.10570985 -0.17581115]\n",
      "[ 8.40366963  6.3044114   0.          0.         -0.13624269  0.44080273]\n",
      "[-2.45644943 -6.41750384  0.          0.          0.18293511 -0.10489611]\n"
     ]
    }
   ],
   "source": [
    "for arr in sv:\n",
    "    print(arr)"
   ]
  },
  {
   "cell_type": "code",
   "execution_count": 83,
   "metadata": {},
   "outputs": [
    {
     "name": "stdout",
     "output_type": "stream",
     "text": [
      "-7.083572130456701\n",
      "-7.083572130456701\n"
     ]
    }
   ],
   "source": [
    "for arr in bv:\n",
    "    print(arr)"
   ]
  }
 ],
 "metadata": {
  "interpreter": {
   "hash": "4cf082d97203dbc4e6105f8e92bf9fdc7b5fae703590b3e03586d98d926929c4"
  },
  "kernelspec": {
   "display_name": "Python 3.9.10 ('s2search397')",
   "language": "python",
   "name": "python3"
  },
  "language_info": {
   "codemirror_mode": {
    "name": "ipython",
    "version": 3
   },
   "file_extension": ".py",
   "mimetype": "text/x-python",
   "name": "python",
   "nbconvert_exporter": "python",
   "pygments_lexer": "ipython3",
   "version": "3.9.10"
  },
  "orig_nbformat": 4
 },
 "nbformat": 4,
 "nbformat_minor": 2
}
