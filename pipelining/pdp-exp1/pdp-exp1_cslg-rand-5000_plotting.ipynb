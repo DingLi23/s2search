{
 "cells": [
  {
   "cell_type": "markdown",
   "id": "f21323d3",
   "metadata": {},
   "source": [
    "<a href=\"https://colab.research.google.com/github/DingLi23/s2search/blob/pipelining/pipelining/pdp-exp1/pdp-exp1_cslg-rand-5000_plotting.ipynb\" target=\"_blank\"><img src=\"https://colab.research.google.com/assets/colab-badge.svg\" alt=\"Open In Colab\"/></a>"
   ]
  },
  {
   "cell_type": "markdown",
   "id": "a33727d2",
   "metadata": {},
   "source": [
    "### Experiment Description\n",
    "\n",
    "Produce PDP for a randomly picked data from cslg.\n",
    "\n",
    "> This notebook is for experiment \\<pdp-exp1\\> and data sample \\<cslg-rand-5000\\>."
   ]
  },
  {
   "cell_type": "markdown",
   "id": "50eb422c",
   "metadata": {},
   "source": [
    "### Initialization"
   ]
  },
  {
   "cell_type": "code",
   "execution_count": 1,
   "id": "ad29e21e",
   "metadata": {},
   "outputs": [],
   "source": [
    "%load_ext autoreload\n",
    "%autoreload 2\n",
    "import numpy as np, sys, os\n",
    "in_colab = 'google.colab' in sys.modules\n",
    "# fetching code and data(if you are using colab\n",
    "if in_colab:\n",
    "    !rm -rf s2search\n",
    "    !git clone --branch pipelining https://github.com/youyinnn/s2search.git\n",
    "    sys.path.insert(1, './s2search')\n",
    "    %cd s2search/pipelining/pdp-exp1/\n",
    "\n",
    "pic_dir = os.path.join('.', 'plot')\n",
    "if not os.path.exists(pic_dir):\n",
    "    os.mkdir(pic_dir)\n"
   ]
  },
  {
   "cell_type": "markdown",
   "id": "a27a3854",
   "metadata": {},
   "source": [
    "### Loading data"
   ]
  },
  {
   "cell_type": "code",
   "execution_count": 2,
   "id": "79706674",
   "metadata": {},
   "outputs": [
    {
     "name": "stdout",
     "output_type": "stream",
     "text": [
      "  feature_name  pdp_range  pdp_importance\n",
      "1     abstract  17.129012        6.155994\n",
      "0        title  15.760054        3.788171\n",
      "2        venue  12.542338        0.971027\n",
      "4         year   2.190717        0.470416\n",
      "3      authors   0.000000        0.000000\n"
     ]
    }
   ],
   "source": [
    "sys.path.insert(1, '../../')\n",
    "import numpy as np, sys, os, pandas as pd\n",
    "from s2search_score_pdp import pdp_based_importance, apply_order\n",
    "\n",
    "sample_name = 'cslg-rand-5000'\n",
    "\n",
    "f_list = ['title', 'abstract', 'venue', 'authors', 'year', 'n_citations']\n",
    "\n",
    "pdp_xy = {}\n",
    "pdp_metric = pd.DataFrame(columns=['feature_name', 'pdp_range', 'pdp_importance'])\n",
    "\n",
    "for f in f_list:\n",
    "    file = os.path.join('.', 'scores', f'{sample_name}_pdp_{f}.npz')\n",
    "    if os.path.exists(file):\n",
    "        data = np.load(file)\n",
    "        sorted_pdp_data = apply_order(data)\n",
    "        feature_pdp_data = [np.mean(pdps) for pdps in sorted_pdp_data]\n",
    "        \n",
    "        pdp_xy[f] = {\n",
    "            'y': feature_pdp_data,\n",
    "            'numerical': True\n",
    "        }\n",
    "        if f == 'year' or f == 'n_citations':\n",
    "            pdp_xy[f]['x'] = np.sort(data['arr_1'])\n",
    "        else:\n",
    "            pdp_xy[f]['y'] = feature_pdp_data\n",
    "            pdp_xy[f]['x'] = list(range(len(feature_pdp_data)))\n",
    "            pdp_xy[f]['numerical'] = False\n",
    "            \n",
    "        pdp_metric.loc[len(pdp_metric.index)] = [f, np.max(feature_pdp_data) - np.min(feature_pdp_data), pdp_based_importance(feature_pdp_data, f)]\n",
    "            \n",
    "        pdp_xy[f]['weird'] = feature_pdp_data[len(feature_pdp_data) - 1] > 30\n",
    "        \n",
    "\n",
    "print(pdp_metric.sort_values(by=['pdp_importance'], ascending=False))\n"
   ]
  },
  {
   "cell_type": "markdown",
   "id": "fe7ee2c4",
   "metadata": {},
   "source": [
    "### PDP"
   ]
  },
  {
   "cell_type": "code",
   "execution_count": 3,
   "id": "110942c0",
   "metadata": {},
   "outputs": [
    {
     "ename": "KeyError",
     "evalue": "'n_citations'",
     "output_type": "error",
     "traceback": [
      "\u001b[0;31m---------------------------------------------------------------------------\u001b[0m",
      "\u001b[0;31mKeyError\u001b[0m                                  Traceback (most recent call last)",
      "\u001b[1;32m/Users/yinnnyou/workspace/s2search/pipelining/pdp-exp1/pdp-exp1_cslg-rand-5000_plotting.ipynb Cell 8'\u001b[0m in \u001b[0;36m<module>\u001b[0;34m\u001b[0m\n\u001b[1;32m      <a href='vscode-notebook-cell:/Users/yinnnyou/workspace/s2search/pipelining/pdp-exp1/pdp-exp1_cslg-rand-5000_plotting.ipynb#ch0000007?line=0'>1</a>\u001b[0m \u001b[39mimport\u001b[39;00m \u001b[39mmatplotlib\u001b[39;00m\u001b[39m.\u001b[39;00m\u001b[39mpyplot\u001b[39;00m \u001b[39mas\u001b[39;00m \u001b[39mplt\u001b[39;00m\n\u001b[1;32m      <a href='vscode-notebook-cell:/Users/yinnnyou/workspace/s2search/pipelining/pdp-exp1/pdp-exp1_cslg-rand-5000_plotting.ipynb#ch0000007?line=2'>3</a>\u001b[0m categorical_plot_conf \u001b[39m=\u001b[39m [\n\u001b[1;32m      <a href='vscode-notebook-cell:/Users/yinnnyou/workspace/s2search/pipelining/pdp-exp1/pdp-exp1_cslg-rand-5000_plotting.ipynb#ch0000007?line=3'>4</a>\u001b[0m     {\n\u001b[1;32m      <a href='vscode-notebook-cell:/Users/yinnnyou/workspace/s2search/pipelining/pdp-exp1/pdp-exp1_cslg-rand-5000_plotting.ipynb#ch0000007?line=4'>5</a>\u001b[0m         \u001b[39m'\u001b[39m\u001b[39mxlabel\u001b[39m\u001b[39m'\u001b[39m: \u001b[39m'\u001b[39m\u001b[39mTitle\u001b[39m\u001b[39m'\u001b[39m,\n\u001b[0;32m   (...)\u001b[0m\n\u001b[1;32m     <a href='vscode-notebook-cell:/Users/yinnnyou/workspace/s2search/pipelining/pdp-exp1/pdp-exp1_cslg-rand-5000_plotting.ipynb#ch0000007?line=25'>26</a>\u001b[0m     },\n\u001b[1;32m     <a href='vscode-notebook-cell:/Users/yinnnyou/workspace/s2search/pipelining/pdp-exp1/pdp-exp1_cslg-rand-5000_plotting.ipynb#ch0000007?line=26'>27</a>\u001b[0m ]\n\u001b[1;32m     <a href='vscode-notebook-cell:/Users/yinnnyou/workspace/s2search/pipelining/pdp-exp1/pdp-exp1_cslg-rand-5000_plotting.ipynb#ch0000007?line=28'>29</a>\u001b[0m numerical_plot_conf \u001b[39m=\u001b[39m [\n\u001b[1;32m     <a href='vscode-notebook-cell:/Users/yinnnyou/workspace/s2search/pipelining/pdp-exp1/pdp-exp1_cslg-rand-5000_plotting.ipynb#ch0000007?line=29'>30</a>\u001b[0m     {\n\u001b[1;32m     <a href='vscode-notebook-cell:/Users/yinnnyou/workspace/s2search/pipelining/pdp-exp1/pdp-exp1_cslg-rand-5000_plotting.ipynb#ch0000007?line=30'>31</a>\u001b[0m         \u001b[39m'\u001b[39m\u001b[39mxlabel\u001b[39m\u001b[39m'\u001b[39m: \u001b[39m'\u001b[39m\u001b[39mYear\u001b[39m\u001b[39m'\u001b[39m,\n\u001b[1;32m     <a href='vscode-notebook-cell:/Users/yinnnyou/workspace/s2search/pipelining/pdp-exp1/pdp-exp1_cslg-rand-5000_plotting.ipynb#ch0000007?line=31'>32</a>\u001b[0m         \u001b[39m'\u001b[39m\u001b[39mylabel\u001b[39m\u001b[39m'\u001b[39m: \u001b[39m'\u001b[39m\u001b[39mScores\u001b[39m\u001b[39m'\u001b[39m,\n\u001b[1;32m     <a href='vscode-notebook-cell:/Users/yinnnyou/workspace/s2search/pipelining/pdp-exp1/pdp-exp1_cslg-rand-5000_plotting.ipynb#ch0000007?line=32'>33</a>\u001b[0m         \u001b[39m'\u001b[39m\u001b[39mpdp_xy\u001b[39m\u001b[39m'\u001b[39m: pdp_xy[\u001b[39m'\u001b[39m\u001b[39myear\u001b[39m\u001b[39m'\u001b[39m]\n\u001b[1;32m     <a href='vscode-notebook-cell:/Users/yinnnyou/workspace/s2search/pipelining/pdp-exp1/pdp-exp1_cslg-rand-5000_plotting.ipynb#ch0000007?line=33'>34</a>\u001b[0m     },\n\u001b[1;32m     <a href='vscode-notebook-cell:/Users/yinnnyou/workspace/s2search/pipelining/pdp-exp1/pdp-exp1_cslg-rand-5000_plotting.ipynb#ch0000007?line=34'>35</a>\u001b[0m     {\n\u001b[1;32m     <a href='vscode-notebook-cell:/Users/yinnnyou/workspace/s2search/pipelining/pdp-exp1/pdp-exp1_cslg-rand-5000_plotting.ipynb#ch0000007?line=35'>36</a>\u001b[0m         \u001b[39m'\u001b[39m\u001b[39mxlabel\u001b[39m\u001b[39m'\u001b[39m: \u001b[39m'\u001b[39m\u001b[39mCitation Count\u001b[39m\u001b[39m'\u001b[39m,\n\u001b[0;32m---> <a href='vscode-notebook-cell:/Users/yinnnyou/workspace/s2search/pipelining/pdp-exp1/pdp-exp1_cslg-rand-5000_plotting.ipynb#ch0000007?line=36'>37</a>\u001b[0m         \u001b[39m'\u001b[39m\u001b[39mpdp_xy\u001b[39m\u001b[39m'\u001b[39m: pdp_xy[\u001b[39m'\u001b[39;49m\u001b[39mn_citations\u001b[39;49m\u001b[39m'\u001b[39;49m],\n\u001b[1;32m     <a href='vscode-notebook-cell:/Users/yinnnyou/workspace/s2search/pipelining/pdp-exp1/pdp-exp1_cslg-rand-5000_plotting.ipynb#ch0000007?line=37'>38</a>\u001b[0m         \u001b[39m# 'zoom': {\u001b[39;00m\n\u001b[1;32m     <a href='vscode-notebook-cell:/Users/yinnnyou/workspace/s2search/pipelining/pdp-exp1/pdp-exp1_cslg-rand-5000_plotting.ipynb#ch0000007?line=38'>39</a>\u001b[0m         \u001b[39m#     'inset_axes': [0.5, 0.2, 0.47, 0.47],\u001b[39;00m\n\u001b[1;32m     <a href='vscode-notebook-cell:/Users/yinnnyou/workspace/s2search/pipelining/pdp-exp1/pdp-exp1_cslg-rand-5000_plotting.ipynb#ch0000007?line=39'>40</a>\u001b[0m         \u001b[39m#     'x_limit': [-100, 1000],\u001b[39;00m\n\u001b[1;32m     <a href='vscode-notebook-cell:/Users/yinnnyou/workspace/s2search/pipelining/pdp-exp1/pdp-exp1_cslg-rand-5000_plotting.ipynb#ch0000007?line=40'>41</a>\u001b[0m         \u001b[39m#     'y_limit': [-7.3, -6.2],\u001b[39;00m\n\u001b[1;32m     <a href='vscode-notebook-cell:/Users/yinnnyou/workspace/s2search/pipelining/pdp-exp1/pdp-exp1_cslg-rand-5000_plotting.ipynb#ch0000007?line=41'>42</a>\u001b[0m         \u001b[39m#     'connects': [False, False, True, True]\u001b[39;00m\n\u001b[1;32m     <a href='vscode-notebook-cell:/Users/yinnnyou/workspace/s2search/pipelining/pdp-exp1/pdp-exp1_cslg-rand-5000_plotting.ipynb#ch0000007?line=42'>43</a>\u001b[0m         \u001b[39m# }\u001b[39;00m\n\u001b[1;32m     <a href='vscode-notebook-cell:/Users/yinnnyou/workspace/s2search/pipelining/pdp-exp1/pdp-exp1_cslg-rand-5000_plotting.ipynb#ch0000007?line=43'>44</a>\u001b[0m     }\n\u001b[1;32m     <a href='vscode-notebook-cell:/Users/yinnnyou/workspace/s2search/pipelining/pdp-exp1/pdp-exp1_cslg-rand-5000_plotting.ipynb#ch0000007?line=44'>45</a>\u001b[0m ]\n\u001b[1;32m     <a href='vscode-notebook-cell:/Users/yinnnyou/workspace/s2search/pipelining/pdp-exp1/pdp-exp1_cslg-rand-5000_plotting.ipynb#ch0000007?line=46'>47</a>\u001b[0m \u001b[39mdef\u001b[39;00m \u001b[39mpdp_plot\u001b[39m(confs, title):\n\u001b[1;32m     <a href='vscode-notebook-cell:/Users/yinnnyou/workspace/s2search/pipelining/pdp-exp1/pdp-exp1_cslg-rand-5000_plotting.ipynb#ch0000007?line=47'>48</a>\u001b[0m     fig, axes \u001b[39m=\u001b[39m plt\u001b[39m.\u001b[39msubplots(nrows\u001b[39m=\u001b[39m\u001b[39m1\u001b[39m, ncols\u001b[39m=\u001b[39m\u001b[39mlen\u001b[39m(confs), figsize\u001b[39m=\u001b[39m(\u001b[39m20\u001b[39m, \u001b[39m5\u001b[39m), dpi\u001b[39m=\u001b[39m\u001b[39m100\u001b[39m)\n",
      "\u001b[0;31mKeyError\u001b[0m: 'n_citations'"
     ]
    }
   ],
   "source": [
    "import matplotlib.pyplot as plt\n",
    "\n",
    "categorical_plot_conf = [\n",
    "    {\n",
    "        'xlabel': 'Title',\n",
    "        'ylabel': 'Scores',\n",
    "        'pdp_xy': pdp_xy['title']\n",
    "    },\n",
    "    {\n",
    "        'xlabel': 'Abstract',\n",
    "        'pdp_xy': pdp_xy['abstract']\n",
    "    },    \n",
    "    {\n",
    "        'xlabel': 'Authors',\n",
    "        'pdp_xy': pdp_xy['authors']\n",
    "    },\n",
    "    {\n",
    "        'xlabel': 'Venue',\n",
    "        'pdp_xy': pdp_xy['venue'],\n",
    "        # 'zoom': {\n",
    "        #     'inset_axes': [0.15, 0.45, 0.47, 0.47],\n",
    "        #     'x_limit': [950, 1010],\n",
    "        #     'y_limit': [-9, 7],\n",
    "        #     'connects': [True, True, False, False]\n",
    "        # }\n",
    "    },\n",
    "]\n",
    "\n",
    "numerical_plot_conf = [\n",
    "    {\n",
    "        'xlabel': 'Year',\n",
    "        'ylabel': 'Scores',\n",
    "        'pdp_xy': pdp_xy['year']\n",
    "    },\n",
    "    {\n",
    "        'xlabel': 'Citation Count',\n",
    "        'pdp_xy': pdp_xy['n_citations'],\n",
    "        # 'zoom': {\n",
    "        #     'inset_axes': [0.5, 0.2, 0.47, 0.47],\n",
    "        #     'x_limit': [-100, 1000],\n",
    "        #     'y_limit': [-7.3, -6.2],\n",
    "        #     'connects': [False, False, True, True]\n",
    "        # }\n",
    "    }\n",
    "]\n",
    "\n",
    "def pdp_plot(confs, title):\n",
    "    fig, axes = plt.subplots(nrows=1, ncols=len(confs), figsize=(20, 5), dpi=100)\n",
    "    subplot_idx = 0\n",
    "    plt.suptitle(title, fontsize=20, fontweight='bold')\n",
    "    # plt.autoscale(False)\n",
    "    for conf in confs:\n",
    "        axess = axes if len(confs) == 1 else axes[subplot_idx]\n",
    "\n",
    "        axess.plot(conf['pdp_xy']['x'], conf['pdp_xy']['y'])\n",
    "        axess.grid(alpha = 0.4)\n",
    "\n",
    "        if ('ylabel' in conf):\n",
    "            axess.set_ylabel(conf.get('ylabel'), fontsize=20, labelpad=10)\n",
    "        \n",
    "        axess.set_xlabel(conf['xlabel'], fontsize=16, labelpad=10)\n",
    "        \n",
    "        if not (conf['pdp_xy']['weird']):\n",
    "            if (conf['pdp_xy']['numerical']):\n",
    "                # axess.set_ylim([-1, 3])\n",
    "                pass\n",
    "            else:\n",
    "                axess.set_ylim([-15, 10])\n",
    "                pass\n",
    "                \n",
    "        if 'zoom' in conf:\n",
    "            axins = axess.inset_axes(conf['zoom']['inset_axes']) \n",
    "            axins.plot(conf['pdp_xy']['x'], conf['pdp_xy']['y'])\n",
    "            axins.set_xlim(conf['zoom']['x_limit'])\n",
    "            axins.set_ylim(conf['zoom']['y_limit'])\n",
    "            axins.grid(alpha=0.3)\n",
    "            rectpatch, connects = axess.indicate_inset_zoom(axins)\n",
    "            connects[0].set_visible(conf['zoom']['connects'][0])\n",
    "            connects[1].set_visible(conf['zoom']['connects'][1])\n",
    "            connects[2].set_visible(conf['zoom']['connects'][2])\n",
    "            connects[3].set_visible(conf['zoom']['connects'][3])\n",
    "            \n",
    "        subplot_idx += 1\n",
    "\n",
    "pdp_plot(categorical_plot_conf, \"PDPs for four categorical features\")\n",
    "plt.savefig(os.path.join('.', 'plot', f'{sample_name}-categorical.png'), facecolor='white', transparent=False, bbox_inches='tight')\n",
    "\n",
    "# second fig\n",
    "pdp_plot(numerical_plot_conf, \"PDPs for two numerical features\")\n",
    "plt.savefig(os.path.join('.', 'plot', f'{sample_name}-numerical.png'), facecolor='white', transparent=False, bbox_inches='tight')\n"
   ]
  }
 ],
 "metadata": {
  "kernelspec": {
   "display_name": "Python 3",
   "name": "python3"
  },
  "language_info": {
   "codemirror_mode": {
    "name": "ipython",
    "version": 3
   },
   "file_extension": ".py",
   "mimetype": "text/x-python",
   "name": "python",
   "nbconvert_exporter": "python",
   "pygments_lexer": "ipython3",
   "version": "3.9.10"
  }
 },
 "nbformat": 4,
 "nbformat_minor": 5
}
