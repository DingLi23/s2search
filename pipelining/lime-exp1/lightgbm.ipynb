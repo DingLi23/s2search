{
 "cells": [
  {
   "cell_type": "code",
   "execution_count": 5,
   "metadata": {},
   "outputs": [],
   "source": [
    "import os\n",
    "import sys\n",
    "import json\n",
    "import lightgbm as lgb\n",
    "import pandas as pd\n",
    "import numpy as np\n",
    "sys.path.insert(1, '../../')\n",
    "from getting_data import load_sample\n",
    "\n",
    "setting = 1\n",
    "\n",
    "if setting == 0:\n",
    "    exp_name = 'exp5'\n",
    "    sample_name = 'cslg'\n",
    "    pk_name = 'rf.pickle'\n",
    "if setting == 1:\n",
    "    exp_name = 'pdp-exp1'\n",
    "    sample_name = 'cslg-rand-5000'\n",
    "    pk_name = 'rf-5000.pickle'\n",
    "    \n",
    "query = 'Machine Learning'\n",
    "\n",
    "f_list = np.array([\n",
    "    'title', 'abstract', 'venue', 'authors', \n",
    "    'year', \n",
    "    'n_citations'\n",
    "])"
   ]
  },
  {
   "cell_type": "code",
   "execution_count": 7,
   "metadata": {},
   "outputs": [
    {
     "name": "stdout",
     "output_type": "stream",
     "text": [
      "title          category\n",
      "abstract       category\n",
      "venue          category\n",
      "authors        category\n",
      "year              int64\n",
      "n_citations       int64\n",
      "dtype: object\n",
      "[LightGBM] [Warning] Unknown parameter: Learning\n",
      "[LightGBM] [Warning] Unknown parameter: Learning\n"
     ]
    },
    {
     "name": "stderr",
     "output_type": "stream",
     "text": [
      "[LightGBM] [Fatal] Ranking tasks require query information\n"
     ]
    },
    {
     "ename": "LightGBMError",
     "evalue": "Ranking tasks require query information",
     "output_type": "error",
     "traceback": [
      "\u001b[0;31m---------------------------------------------------------------------------\u001b[0m",
      "\u001b[0;31mLightGBMError\u001b[0m                             Traceback (most recent call last)",
      "\u001b[1;32m/Users/yinnnyou/workspace/s2search/pipelining/lime-exp1/lightgbm.ipynb Cell 2'\u001b[0m in \u001b[0;36m<module>\u001b[0;34m\u001b[0m\n\u001b[1;32m     <a href='vscode-notebook-cell:/Users/yinnnyou/workspace/s2search/pipelining/lime-exp1/lightgbm.ipynb#ch0000001?line=22'>23</a>\u001b[0m param \u001b[39m=\u001b[39m \u001b[39mdict\u001b[39m(\n\u001b[1;32m     <a href='vscode-notebook-cell:/Users/yinnnyou/workspace/s2search/pipelining/lime-exp1/lightgbm.ipynb#ch0000001?line=23'>24</a>\u001b[0m     objective\u001b[39m=\u001b[39m\u001b[39m'\u001b[39m\u001b[39mlambdarank\u001b[39m\u001b[39m'\u001b[39m,\n\u001b[1;32m     <a href='vscode-notebook-cell:/Users/yinnnyou/workspace/s2search/pipelining/lime-exp1/lightgbm.ipynb#ch0000001?line=24'>25</a>\u001b[0m     query\u001b[39m=\u001b[39mquery\n\u001b[1;32m     <a href='vscode-notebook-cell:/Users/yinnnyou/workspace/s2search/pipelining/lime-exp1/lightgbm.ipynb#ch0000001?line=25'>26</a>\u001b[0m )\n\u001b[1;32m     <a href='vscode-notebook-cell:/Users/yinnnyou/workspace/s2search/pipelining/lime-exp1/lightgbm.ipynb#ch0000001?line=27'>28</a>\u001b[0m num_round \u001b[39m=\u001b[39m \u001b[39m10\u001b[39m\n\u001b[0;32m---> <a href='vscode-notebook-cell:/Users/yinnnyou/workspace/s2search/pipelining/lime-exp1/lightgbm.ipynb#ch0000001?line=28'>29</a>\u001b[0m bst \u001b[39m=\u001b[39m lgb\u001b[39m.\u001b[39;49mtrain(param, train_data, num_round, valid_sets\u001b[39m=\u001b[39;49m[validation_data])\n",
      "File \u001b[0;32m~/miniconda3/envs/s2search397/lib/python3.9/site-packages/lightgbm/engine.py:271\u001b[0m, in \u001b[0;36mtrain\u001b[0;34m(params, train_set, num_boost_round, valid_sets, valid_names, fobj, feval, init_model, feature_name, categorical_feature, early_stopping_rounds, evals_result, verbose_eval, learning_rates, keep_training_booster, callbacks)\u001b[0m\n\u001b[1;32m    <a href='file:///~/miniconda3/envs/s2search397/lib/python3.9/site-packages/lightgbm/engine.py?line=268'>269</a>\u001b[0m \u001b[39m# construct booster\u001b[39;00m\n\u001b[1;32m    <a href='file:///~/miniconda3/envs/s2search397/lib/python3.9/site-packages/lightgbm/engine.py?line=269'>270</a>\u001b[0m \u001b[39mtry\u001b[39;00m:\n\u001b[0;32m--> <a href='file:///~/miniconda3/envs/s2search397/lib/python3.9/site-packages/lightgbm/engine.py?line=270'>271</a>\u001b[0m     booster \u001b[39m=\u001b[39m Booster(params\u001b[39m=\u001b[39;49mparams, train_set\u001b[39m=\u001b[39;49mtrain_set)\n\u001b[1;32m    <a href='file:///~/miniconda3/envs/s2search397/lib/python3.9/site-packages/lightgbm/engine.py?line=271'>272</a>\u001b[0m     \u001b[39mif\u001b[39;00m is_valid_contain_train:\n\u001b[1;32m    <a href='file:///~/miniconda3/envs/s2search397/lib/python3.9/site-packages/lightgbm/engine.py?line=272'>273</a>\u001b[0m         booster\u001b[39m.\u001b[39mset_train_data_name(train_data_name)\n",
      "File \u001b[0;32m~/miniconda3/envs/s2search397/lib/python3.9/site-packages/lightgbm/basic.py:2610\u001b[0m, in \u001b[0;36mBooster.__init__\u001b[0;34m(self, params, train_set, model_file, model_str, silent)\u001b[0m\n\u001b[1;32m   <a href='file:///~/miniconda3/envs/s2search397/lib/python3.9/site-packages/lightgbm/basic.py?line=2607'>2608</a>\u001b[0m params_str \u001b[39m=\u001b[39m param_dict_to_str(params)\n\u001b[1;32m   <a href='file:///~/miniconda3/envs/s2search397/lib/python3.9/site-packages/lightgbm/basic.py?line=2608'>2609</a>\u001b[0m \u001b[39mself\u001b[39m\u001b[39m.\u001b[39mhandle \u001b[39m=\u001b[39m ctypes\u001b[39m.\u001b[39mc_void_p()\n\u001b[0;32m-> <a href='file:///~/miniconda3/envs/s2search397/lib/python3.9/site-packages/lightgbm/basic.py?line=2609'>2610</a>\u001b[0m _safe_call(_LIB\u001b[39m.\u001b[39;49mLGBM_BoosterCreate(\n\u001b[1;32m   <a href='file:///~/miniconda3/envs/s2search397/lib/python3.9/site-packages/lightgbm/basic.py?line=2610'>2611</a>\u001b[0m     train_set\u001b[39m.\u001b[39;49mhandle,\n\u001b[1;32m   <a href='file:///~/miniconda3/envs/s2search397/lib/python3.9/site-packages/lightgbm/basic.py?line=2611'>2612</a>\u001b[0m     c_str(params_str),\n\u001b[1;32m   <a href='file:///~/miniconda3/envs/s2search397/lib/python3.9/site-packages/lightgbm/basic.py?line=2612'>2613</a>\u001b[0m     ctypes\u001b[39m.\u001b[39;49mbyref(\u001b[39mself\u001b[39;49m\u001b[39m.\u001b[39;49mhandle)))\n\u001b[1;32m   <a href='file:///~/miniconda3/envs/s2search397/lib/python3.9/site-packages/lightgbm/basic.py?line=2613'>2614</a>\u001b[0m \u001b[39m# save reference to data\u001b[39;00m\n\u001b[1;32m   <a href='file:///~/miniconda3/envs/s2search397/lib/python3.9/site-packages/lightgbm/basic.py?line=2614'>2615</a>\u001b[0m \u001b[39mself\u001b[39m\u001b[39m.\u001b[39mtrain_set \u001b[39m=\u001b[39m train_set\n",
      "File \u001b[0;32m~/miniconda3/envs/s2search397/lib/python3.9/site-packages/lightgbm/basic.py:125\u001b[0m, in \u001b[0;36m_safe_call\u001b[0;34m(ret)\u001b[0m\n\u001b[1;32m    <a href='file:///~/miniconda3/envs/s2search397/lib/python3.9/site-packages/lightgbm/basic.py?line=116'>117</a>\u001b[0m \u001b[39m\"\"\"Check the return value from C API call.\u001b[39;00m\n\u001b[1;32m    <a href='file:///~/miniconda3/envs/s2search397/lib/python3.9/site-packages/lightgbm/basic.py?line=117'>118</a>\u001b[0m \n\u001b[1;32m    <a href='file:///~/miniconda3/envs/s2search397/lib/python3.9/site-packages/lightgbm/basic.py?line=118'>119</a>\u001b[0m \u001b[39mParameters\u001b[39;00m\n\u001b[0;32m   (...)\u001b[0m\n\u001b[1;32m    <a href='file:///~/miniconda3/envs/s2search397/lib/python3.9/site-packages/lightgbm/basic.py?line=121'>122</a>\u001b[0m \u001b[39m    The return value from C API calls.\u001b[39;00m\n\u001b[1;32m    <a href='file:///~/miniconda3/envs/s2search397/lib/python3.9/site-packages/lightgbm/basic.py?line=122'>123</a>\u001b[0m \u001b[39m\"\"\"\u001b[39;00m\n\u001b[1;32m    <a href='file:///~/miniconda3/envs/s2search397/lib/python3.9/site-packages/lightgbm/basic.py?line=123'>124</a>\u001b[0m \u001b[39mif\u001b[39;00m ret \u001b[39m!=\u001b[39m \u001b[39m0\u001b[39m:\n\u001b[0;32m--> <a href='file:///~/miniconda3/envs/s2search397/lib/python3.9/site-packages/lightgbm/basic.py?line=124'>125</a>\u001b[0m     \u001b[39mraise\u001b[39;00m LightGBMError(_LIB\u001b[39m.\u001b[39mLGBM_GetLastError()\u001b[39m.\u001b[39mdecode(\u001b[39m'\u001b[39m\u001b[39mutf-8\u001b[39m\u001b[39m'\u001b[39m))\n",
      "\u001b[0;31mLightGBMError\u001b[0m: Ranking tasks require query information"
     ]
    }
   ],
   "source": [
    "df = load_sample(exp_name, sample_name, author_as_str=True)\n",
    "\n",
    "obj_feat = list(df.loc[:, df.dtypes == 'object'].columns.values)\n",
    "\n",
    "for feature in obj_feat:\n",
    "    df[feature] = pd.Series(df[feature], dtype=\"category\")\n",
    "\n",
    "\n",
    "target_value_npz_file = os.path.join('.', 'scores', f'{sample_name}_target_value.npz')\n",
    "\n",
    "if os.path.exists(target_value_npz_file):\n",
    "    target_value = np.load(target_value_npz_file)['arr_0']\n",
    "    \n",
    "\n",
    "\n",
    "train_data = lgb.Dataset(df, label=target_value, feature_name=[\n",
    "    'title', 'abstract', 'venue', 'authors', \n",
    "    'year', \n",
    "    'n_citations'\n",
    "])\n",
    "\n",
    "validation_data = train_data.create_valid(target_value)\n",
    "\n",
    "param = dict(\n",
    "    objective='lambdarank',\n",
    "    query=query\n",
    ")\n",
    "\n",
    "num_round = 10\n",
    "bst = lgb.train(param, train_data, num_round, valid_sets=[validation_data])"
   ]
  }
 ],
 "metadata": {
  "interpreter": {
   "hash": "4cf082d97203dbc4e6105f8e92bf9fdc7b5fae703590b3e03586d98d926929c4"
  },
  "kernelspec": {
   "display_name": "Python 3.9.10 ('s2search397')",
   "language": "python",
   "name": "python3"
  },
  "language_info": {
   "codemirror_mode": {
    "name": "ipython",
    "version": 3
   },
   "file_extension": ".py",
   "mimetype": "text/x-python",
   "name": "python",
   "nbconvert_exporter": "python",
   "pygments_lexer": "ipython3",
   "version": "3.9.10"
  },
  "orig_nbformat": 4
 },
 "nbformat": 4,
 "nbformat_minor": 2
}
