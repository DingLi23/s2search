{
 "cells": [
  {
   "cell_type": "code",
   "execution_count": 3,
   "metadata": {},
   "outputs": [],
   "source": [
    "%reload_ext autoreload\n",
    "%autoreload 2\n",
    "import numpy as np, sys, os, pandas as pd,json, os\n",
    "sys.path.insert(1, '../../')\n",
    "from getting_data import read_conf"
   ]
  },
  {
   "cell_type": "code",
   "execution_count": 92,
   "metadata": {},
   "outputs": [
    {
     "name": "stdout",
     "output_type": "stream",
     "text": [
      "[8879]\n",
      "[title      ] len: 8798   sum: 3716.0366 , mean: 0.4224    , std: 0.241     \n",
      "[abstract   ] len: 8449   sum: 4168.143  , mean: 0.4933    , std: 0.2198    \n",
      "[venue      ] len: 4386   sum: 125.8785  , mean: 0.0287    , std: 0.0579    \n",
      "[authors    ] len: 1353   sum: 35.9418   , mean: 0.0266    , std: 0.0336    \n",
      "[year       ] len: 0      sum: 0.0       , mean: 0         , std: 0         \n",
      "[n_citations] len: 0      sum: 0.0       , mean: 0         , std: 0         \n"
     ]
    }
   ],
   "source": [
    "_, samples, __ = read_conf('.')\n",
    "\n",
    "def print_metrics(key, arr):\n",
    "    print(f\"[{key:11}] len: {len(arr):<6} sum: {round(np.sum(arr), 4):<10}, mean: {round(np.mean(arr), 4) if len(arr) > 1 else 0:<10}, std: {round(np.std(arr), 4) if len(arr) > 1 else 0:<10}\")\n",
    "\n",
    "for sample_key in samples.keys():\n",
    "    sample_tasks = samples[sample_key]\n",
    "    for task in sample_tasks:\n",
    "        rg = task['range']\n",
    "        m_file = os.path.join('scores', f\"{sample_key}_metrics_{rg[0]}_{rg[1]}.npz\")\n",
    "        if os.path.exists(m_file):\n",
    "            ld = np.load(m_file)\n",
    "            title = ld['title']\n",
    "            abstract = ld['abstract']\n",
    "            venue = ld['venue']\n",
    "            authors = ld['authors']\n",
    "            year = ld['year']\n",
    "            n_citations = ld['n_citations']\n",
    "            idx = ld['idx']\n",
    "            \n",
    "            print(idx)\n",
    "            print_metrics('title', title)\n",
    "            print_metrics('abstract', abstract)\n",
    "            print_metrics('venue', venue)\n",
    "            print_metrics('authors', authors)\n",
    "            print_metrics('year', year)\n",
    "            print_metrics('n_citations', n_citations)"
   ]
  }
 ],
 "metadata": {
  "interpreter": {
   "hash": "4cf082d97203dbc4e6105f8e92bf9fdc7b5fae703590b3e03586d98d926929c4"
  },
  "kernelspec": {
   "display_name": "Python 3.9.10 ('s2search397')",
   "language": "python",
   "name": "python3"
  },
  "language_info": {
   "codemirror_mode": {
    "name": "ipython",
    "version": 3
   },
   "file_extension": ".py",
   "mimetype": "text/x-python",
   "name": "python",
   "nbconvert_exporter": "python",
   "pygments_lexer": "ipython3",
   "version": "3.9.10"
  },
  "orig_nbformat": 4
 },
 "nbformat": 4,
 "nbformat_minor": 2
}
