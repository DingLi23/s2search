{
 "cells": [
  {
   "cell_type": "markdown",
   "id": "a15f4a04",
   "metadata": {},
   "source": [
    "<a href=\"https://colab.research.google.com/github/DingLi23/s2search/blob/pipelining/pipelining/exp6/exp6_cs-p2001-p5999_plotting.ipynb\" target=\"_blank\"><img src=\"https://colab.research.google.com/assets/colab-badge.svg\" alt=\"Open In Colab\"/></a>"
   ]
  },
  {
   "cell_type": "markdown",
   "id": "9acd6c86",
   "metadata": {},
   "source": [
    "### Experiment Description\n",
    "\n",
    "Quering machine learning in s2 cs data from partition 000 to 1000(1.12 million data) with no feature masking. \n",
    "\n",
    "After examining all s2 data for query 'machine learning', extract the id of valid data, and make those data as a new sample.\n",
    "\n",
    "> This notebook is for experiment \\<exp6\\> and data sample \\<cs-p2001-p5999\\>."
   ]
  },
  {
   "cell_type": "markdown",
   "id": "9fc9dd45",
   "metadata": {},
   "source": [
    "### Initialization"
   ]
  },
  {
   "cell_type": "code",
   "execution_count": null,
   "id": "99eca622",
   "metadata": {},
   "outputs": [],
   "source": [
    "%load_ext autoreload\n",
    "%autoreload 2\n",
    "import numpy as np, sys, os\n",
    "in_colab = 'google.colab' in sys.modules\n",
    "# fetching code and data(if you are using colab\n",
    "if in_colab:\n",
    "    !rm -rf s2search\n",
    "    !git clone --branch pipelining https://github.com/youyinnn/s2search.git\n",
    "    sys.path.insert(1, './s2search')\n",
    "    %cd s2search/pipelining/exp6/\n"
   ]
  },
  {
   "cell_type": "markdown",
   "id": "a29b5948",
   "metadata": {},
   "source": [
    "### Loading data"
   ]
  },
  {
   "cell_type": "code",
   "execution_count": null,
   "id": "53e15dbe",
   "metadata": {},
   "outputs": [],
   "source": [
    "sys.path.insert(1, '../../')\n",
    "import numpy as np, sys, os\n",
    "from getting_data import get\n",
    "from feature_masking import masking_options\n",
    "\n",
    "sample_data_and_config_arr = get('exp6', 'cs-p2001-p5999')\n",
    "\n",
    "for sample_data_and_config in sample_data_and_config_arr:\n",
    "    y_values = []\n",
    "    sample_origin_npy = sample_data_and_config['origin']\n",
    "    for array in sample_data_and_config['feature_stack']:\n",
    "\n",
    "        # define your y axis value here\n",
    "        y_value = np.absolute((sample_origin_npy - array) / sample_origin_npy)\n",
    "        # y_value = sample_origin_npy - array\n",
    "        y_values.append(y_value)\n",
    "\n",
    "    y_values = np.array(y_values)\n",
    "    sample_data_and_config['y_values'] = y_values\n"
   ]
  },
  {
   "cell_type": "markdown",
   "id": "b316add6",
   "metadata": {},
   "source": [
    "### Plot the data"
   ]
  },
  {
   "cell_type": "code",
   "execution_count": null,
   "id": "0db7f256",
   "metadata": {},
   "outputs": [],
   "source": [
    "import matplotlib.pyplot as plt\n",
    "def plot_scores_d(sample_name, y_values, sample_origin_npy, query, sample_masking_option_keys): \n",
    "  plt.figure(figsize=(20, 15), dpi=80)\n",
    "  i = 0\n",
    "  for key in sample_masking_option_keys:\n",
    "    plt.scatter(\n",
    "        sample_origin_npy,\n",
    "        y_values[i],\n",
    "        c=masking_options[key]['color'], \n",
    "        marker=masking_options[key]['marker'],\n",
    "        label=masking_options[key]['plot_legend']\n",
    "    )\n",
    "    i += 1\n",
    "\n",
    "  plt.xlabel('Orginal Ranking Score',fontsize=16)\n",
    "  plt.ylabel('$y = \\\\frac{|Score_0 - Score\\_feature_j|}{Score_0}$', fontsize=16)\n",
    "  plt.title(f'Distrubution of Ranking Score and Masking Features Difference\\nfor \\'{sample_name}\\', with query \\'{query}\\'', fontsize=20, pad=20)\n",
    "  x_max = 10\n",
    "  x_min = 0\n",
    "  x_pace = 1\n",
    "  y_max = 10\n",
    "  y_min = 0\n",
    "  y_pace = 1\n",
    "  plt.xticks(np.arange(x_min, x_max, x_pace), size = 9) \n",
    "  plt.yticks(np.arange(y_min, y_max, y_pace), size = 9)\n",
    "  plt.ylim(y_min, y_max)\n",
    "  plt.xlim(x_min, x_max)\n",
    "  plt.legend(prop={'size': 10})\n",
    "  plt.savefig(os.path.join('.', f'{sample_name}.png'), facecolor='white', transparent=False)\n",
    "  plt.show()\n",
    "\n",
    "for sample_data_and_config in sample_data_and_config_arr:\n",
    "  sample_and_task_name = sample_data_and_config['sample_and_task_name']\n",
    "  sample_origin_npy = sample_data_and_config['origin']\n",
    "  y_values = sample_data_and_config['y_values']\n",
    "\n",
    "  valid_data_count = 0\n",
    "  total_data_count = 0\n",
    "  for d in sample_origin_npy:\n",
    "    total_data_count += 1\n",
    "    if d > -10:\n",
    "      valid_data_count += 1\n",
    "  print(f'({valid_data_count}/{total_data_count}) ({round((valid_data_count / total_data_count) * 100, 2)}%) valid data for {sample_and_task_name} (original score is greater than -10)')\n",
    "\n",
    "  sample_query = sample_data_and_config['query']\n",
    "  sample_masking_option_keys = sample_data_and_config['masking_option_keys']\n",
    "  plot_scores_d(sample_and_task_name, y_values, sample_origin_npy, sample_query, sample_masking_option_keys)\n"
   ]
  }
 ],
 "metadata": {
  "kernelspec": {
   "display_name": "Python 3",
   "name": "python3"
  },
  "language_info": {
   "codemirror_mode": {
    "name": "ipython",
    "version": 3
   },
   "file_extension": ".py",
   "mimetype": "text/x-python",
   "name": "python",
   "nbconvert_exporter": "python",
   "pygments_lexer": "ipython3",
   "version": "3.10.0"
  }
 },
 "nbformat": 4,
 "nbformat_minor": 5
}
