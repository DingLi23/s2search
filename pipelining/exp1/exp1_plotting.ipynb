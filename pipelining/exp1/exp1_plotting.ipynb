{
 "cells": [
  {
   "cell_type": "markdown",
   "id": "53d5aa10",
   "metadata": {},
   "source": [
    "<a href=\"https://colab.research.google.com/github/DingLi23/s2search/blob/pipelining/pipelining/exp1/exp1_plotting.ipynb\" target=\"_blank\"><img src=\"https://colab.research.google.com/assets/colab-badge.svg\" alt=\"Open In Colab\"/></a>"
   ]
  },
  {
   "cell_type": "markdown",
   "id": "b6fec771",
   "metadata": {},
   "source": [
    "#### Experiment Description\n",
    "\n",
    "This is an test experiment. The sample data is small enough."
   ]
  },
  {
   "cell_type": "markdown",
   "id": "05fea8fb",
   "metadata": {},
   "source": [
    "#### Initialization"
   ]
  },
  {
   "cell_type": "code",
   "execution_count": null,
   "id": "2d51c069",
   "metadata": {},
   "outputs": [],
   "source": [
    "%load_ext autoreload\n",
    "%autoreload 2\n",
    "import numpy as np, sys, os\n",
    "in_colab = 'google.colab' in sys.modules\n",
    "# fetching code and data(if you are using colab\n",
    "if in_colab:\n",
    "    !rm -rf s2search\n",
    "    !git clone --branch pipelining https://github.com/youyinnn/s2search.git\n",
    "    sys.path.insert(1, './s2search')\n",
    "    %cd s2search/pipelining/exp1/\n"
   ]
  },
  {
   "cell_type": "markdown",
   "id": "9fb85aa1",
   "metadata": {},
   "source": [
    "#### Loading data"
   ]
  },
  {
   "cell_type": "code",
   "execution_count": null,
   "id": "b96ae57b",
   "metadata": {},
   "outputs": [],
   "source": [
    "sys.path.insert(1, '../../')\n",
    "import numpy as np, sys, os\n",
    "from getting_data import get\n",
    "from feature_masking import masking_options\n",
    "\n",
    "sample_data_and_config_arr = get('exp1')\n",
    "\n",
    "for sample_data_and_config in sample_data_and_config_arr:\n",
    "    y_values = []\n",
    "    sample_origin_npy = sample_data_and_config['origin']\n",
    "    for array in sample_data_and_config['feature_stack']:\n",
    "        y_value = np.absolute((sample_origin_npy - array)) / sample_origin_npy\n",
    "        # y_value = sample_origin_npy - array\n",
    "        y_values.append(y_value)\n",
    "    y_values = np.array(y_values)\n",
    "    sample_data_and_config['y_values'] = y_values\n"
   ]
  },
  {
   "cell_type": "markdown",
   "id": "f6a640ea",
   "metadata": {},
   "source": [
    "#### Plot the data"
   ]
  },
  {
   "cell_type": "code",
   "execution_count": null,
   "id": "515484a5",
   "metadata": {},
   "outputs": [],
   "source": [
    "import matplotlib.pyplot as plt\n",
    "def plot_scores_d(sample_name, y_values, sample_origin_npy, query, sample_masking_option_keys): \n",
    "  plt.figure(figsize=(20, 15), dpi=80)\n",
    "  i = 0\n",
    "  for key in sample_masking_option_keys:\n",
    "    plt.scatter(\n",
    "        sample_origin_npy,\n",
    "        y_values[i],\n",
    "        c=masking_options[key]['color'], \n",
    "        marker=masking_options[key]['marker'],\n",
    "        label=masking_options[key]['plot_legend']\n",
    "    )\n",
    "    i += 1\n",
    "\n",
    "  plt.xlabel('Orginal Ranking Score',fontsize=16)\n",
    "  plt.ylabel('$y = \\\\frac{|Score_0 - Score\\_feature_j|}{Score_0}$', fontsize=16)\n",
    "  plt.title(f'Distrubution of Ranking Score and Masking Features Difference\\nfor \\'{sample_name}\\', with query \\'{query}\\'', fontsize=20, pad=20)\n",
    "  x_max = 10\n",
    "  x_min = 0\n",
    "  x_pace = 1\n",
    "  y_max = 10\n",
    "  y_min = 0\n",
    "  y_pace = 1\n",
    "  plt.xticks(np.arange(x_min, x_max, x_pace), size = 9) \n",
    "  plt.yticks(np.arange(y_min, y_max, y_pace), size = 9)\n",
    "  plt.ylim(y_min, y_max)\n",
    "  plt.xlim(x_min, x_max)\n",
    "  plt.legend(prop={'size': 10})\n",
    "  plt.savefig(os.path.join('.', f'{sample_name}.png'), facecolor='white', transparent=False)\n",
    "  plt.show()\n",
    "\n",
    "for sample_data_and_config in sample_data_and_config_arr:\n",
    "  sample_and_task_name = sample_data_and_config['sample_and_task_name']\n",
    "  sample_origin_npy = sample_data_and_config['origin']\n",
    "  y_values = sample_data_and_config['y_values']\n",
    "  sample_query = sample_data_and_config['query']\n",
    "  sample_masking_option_keys = sample_data_and_config['masking_option_keys']\n",
    "  plot_scores_d(sample_and_task_name, y_values, sample_origin_npy, sample_query, sample_masking_option_keys)\n"
   ]
  }
 ],
 "metadata": {
  "kernelspec": {
   "display_name": "Python 3",
   "name": "python3"
  },
  "language_info": {
   "codemirror_mode": {
    "name": "ipython",
    "version": 3
   },
   "file_extension": ".py",
   "mimetype": "text/x-python",
   "name": "python",
   "nbconvert_exporter": "python",
   "pygments_lexer": "ipython3",
   "version": "3.10.0"
  }
 },
 "nbformat": 4,
 "nbformat_minor": 5
}
