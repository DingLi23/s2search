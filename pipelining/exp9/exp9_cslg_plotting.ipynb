{
 "cells": [
  {
   "cell_type": "markdown",
   "id": "823f00a0",
   "metadata": {},
   "source": [
    "<a href=\"https://colab.research.google.com/github/DingLi23/s2search/blob/pipelining/pipelining/exp9/exp9_cslg_plotting.ipynb\" target=\"_blank\"><img src=\"https://colab.research.google.com/assets/colab-badge.svg\" alt=\"Open In Colab\"/></a>"
   ]
  },
  {
   "cell_type": "markdown",
   "id": "189fe629",
   "metadata": {},
   "source": [
    "### Experiment Description\n",
    "\n",
    "Focusing the distance of the feature masking clusters.\n",
    "\n",
    "> This notebook is for experiment \\<exp9\\> and data sample \\<cslg\\>."
   ]
  },
  {
   "cell_type": "markdown",
   "id": "1e94fb93",
   "metadata": {},
   "source": [
    "### Initialization"
   ]
  },
  {
   "cell_type": "code",
   "execution_count": 1,
   "id": "58659fda",
   "metadata": {},
   "outputs": [],
   "source": [
    "%load_ext autoreload\n",
    "%autoreload 2\n",
    "import numpy as np, sys, os\n",
    "in_colab = 'google.colab' in sys.modules\n",
    "# fetching code and data(if you are using colab\n",
    "if in_colab:\n",
    "    !rm -rf s2search\n",
    "    !git clone --branch pipelining https://github.com/youyinnn/s2search.git\n",
    "    sys.path.insert(1, './s2search')\n",
    "    %cd s2search/pipelining/exp9/\n",
    "\n",
    "pic_dir = os.path.join('.', 'plot')\n",
    "if not os.path.exists(pic_dir):\n",
    "    os.mkdir(pic_dir)\n"
   ]
  },
  {
   "cell_type": "markdown",
   "id": "57682d86",
   "metadata": {},
   "source": [
    "### Loading data"
   ]
  },
  {
   "cell_type": "code",
   "execution_count": 2,
   "id": "8b053e96",
   "metadata": {},
   "outputs": [
    {
     "name": "stdout",
     "output_type": "stream",
     "text": [
      "Got sample data: cslg\n"
     ]
    }
   ],
   "source": [
    "sys.path.insert(1, '../../')\n",
    "import numpy as np, sys, os\n",
    "from getting_data import get\n",
    "from feature_masking import masking_options\n",
    "\n",
    "sample_data_and_config_arr = get('exp9', 'cslg')\n",
    "\n",
    "for sample_data_and_config in sample_data_and_config_arr:\n",
    "    y_values = []\n",
    "    sample_origin_npy = sample_data_and_config['origin']\n",
    "    for array in sample_data_and_config['feature_stack']:\n",
    "\n",
    "        # define your y axis value here\n",
    "        # y_value = np.absolute((sample_origin_npy - array) / sample_origin_npy)\n",
    "        y_value = (array)\n",
    "        y_values.append(y_value)\n",
    "\n",
    "    y_values = np.array(y_values)\n",
    "    sample_data_and_config['y_values'] = y_values\n",
    "\n",
    "def get_sample_data_and_config(sample_name, query, task_number):\n",
    "    for config in sample_data_and_config_arr:\n",
    "        if config.get('sample_and_task_name') == sample_name and config.get('query') == query and config.get('task_number') == task_number:\n",
    "            return config\n",
    "\n",
    "pdp_title_data_and_config = get_sample_data_and_config('cslg', 'Machine Learning', 1)\n",
    "\n",
    "origin = pdp_title_data_and_config.get('origin')\n",
    "number_of_x = list(range(1, len(origin) + 1))\n"
   ]
  },
  {
   "cell_type": "markdown",
   "id": "c82bc249",
   "metadata": {},
   "source": [
    "### Pick Single Sample From Cluster ABC"
   ]
  },
  {
   "cell_type": "code",
   "execution_count": 3,
   "id": "41da8794",
   "metadata": {},
   "outputs": [
    {
     "name": "stdout",
     "output_type": "stream",
     "text": [
      "5.909699477611818 -4.692688582418794 -15.877535913958647\n",
      "92937 92931 92938\n",
      "6.495146657639621 -3.8339748871388157 -15.689448900668557\n"
     ]
    }
   ],
   "source": [
    "import matplotlib.pyplot as plt\n",
    "\n",
    "cluster_A_id = []\n",
    "cluster_B_id = []\n",
    "cluster_C_id = []\n",
    "idx = 0\n",
    "\n",
    "cluster_A_sum = 0\n",
    "cluster_B_sum = 0\n",
    "cluster_C_sum = 0\n",
    "\n",
    "for score in origin:\n",
    "    if score < -10:\n",
    "        cluster_C_id.append(idx)\n",
    "        cluster_C_sum += score\n",
    "    elif score < 0:\n",
    "        cluster_B_id.append(idx)\n",
    "        cluster_B_sum += score\n",
    "    else:\n",
    "        cluster_A_id.append(idx)\n",
    "        cluster_A_sum += score\n",
    "    idx += 1\n",
    "\n",
    "mean_score_of_A = cluster_A_sum / len(cluster_A_id) if len(cluster_A_id) > 0 else 0\n",
    "mean_score_of_B = cluster_B_sum / len(cluster_B_id) if len(cluster_B_id) > 0 else 0\n",
    "mean_score_of_C = cluster_C_sum / len(cluster_C_id) if len(cluster_C_id) > 0 else 0\n",
    "\n",
    "mean_id_of_A = 0\n",
    "mean_id_of_B = 0\n",
    "mean_id_of_C = 0\n",
    "for i in range(len(origin)):\n",
    "    curr_score = origin[i]\n",
    "    if curr_score < -10:\n",
    "        curr_diff = abs(mean_score_of_C - curr_score)\n",
    "        final_diff = abs(mean_id_of_C - origin[mean_id_of_C])\n",
    "        if curr_diff < final_diff:\n",
    "            mean_id_of_C = i\n",
    "    elif curr_score < 0:\n",
    "        curr_diff = abs(mean_score_of_B - curr_score)\n",
    "        final_diff = abs(mean_id_of_B - origin[mean_id_of_B])\n",
    "        if curr_diff < final_diff:\n",
    "            mean_id_of_B = i\n",
    "    else:\n",
    "        curr_diff = abs(mean_score_of_A - curr_score)\n",
    "        final_diff = abs(mean_id_of_A - origin[mean_id_of_A])\n",
    "        if curr_diff < final_diff:\n",
    "            mean_id_of_A = i\n",
    "\n",
    "print(mean_score_of_A, mean_score_of_B, mean_score_of_C)\n",
    "print(mean_id_of_A + 1, mean_id_of_B + 1, mean_id_of_C + 1)\n",
    "print(origin[mean_id_of_A], origin[mean_id_of_B], origin[mean_id_of_C])\n"
   ]
  }
 ],
 "metadata": {
  "kernelspec": {
   "display_name": "Python 3",
   "name": "python3"
  },
  "language_info": {
   "codemirror_mode": {
    "name": "ipython",
    "version": 3
   },
   "file_extension": ".py",
   "mimetype": "text/x-python",
   "name": "python",
   "nbconvert_exporter": "python",
   "pygments_lexer": "ipython3",
   "version": "3.10.0"
  }
 },
 "nbformat": 4,
 "nbformat_minor": 5
}
