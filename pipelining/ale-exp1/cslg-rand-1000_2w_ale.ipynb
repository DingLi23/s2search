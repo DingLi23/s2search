{
 "cells": [
  {
   "cell_type": "markdown",
   "metadata": {},
   "source": [
    "<a href=\"https://colab.research.google.com/github/DingLi23/s2search/blob/pipelining/pipelining/ale-exp1/cslg_1w_ale_plotting.ipynb\" target=\"_blank\"><img src=\"https://colab.research.google.com/assets/colab-badge.svg\" alt=\"Open In Colab\"/></a>"
   ]
  },
  {
   "cell_type": "markdown",
   "metadata": {},
   "source": [
    "### Experiment Description\n",
    "\n",
    "2-way ALE.\n",
    "\n",
    "> This notebook is for experiment \\<ale-exp1\\> and data sample \\<cslg-rand-1000\\>."
   ]
  },
  {
   "cell_type": "markdown",
   "metadata": {},
   "source": [
    "### Initialization"
   ]
  },
  {
   "cell_type": "code",
   "execution_count": 78,
   "metadata": {},
   "outputs": [
    {
     "name": "stdout",
     "output_type": "stream",
     "text": [
      "The autoreload extension is already loaded. To reload it, use:\n",
      "  %reload_ext autoreload\n"
     ]
    }
   ],
   "source": [
    "%load_ext autoreload\n",
    "%autoreload 2\n",
    "import numpy as np, sys, os\n",
    "in_colab = 'google.colab' in sys.modules\n",
    "# fetching code and data(if you are using colab\n",
    "if in_colab:\n",
    "    !rm -rf s2search\n",
    "    !git clone --branch pipelining https://github.com/youyinnn/s2search.git\n",
    "    sys.path.insert(1, './s2search')\n",
    "    %cd s2search/pipelining/pdp-exp1/\n",
    "\n",
    "pic_dir = os.path.join('.', 'plot')\n",
    "if not os.path.exists(pic_dir):\n",
    "    os.mkdir(pic_dir)\n"
   ]
  },
  {
   "cell_type": "markdown",
   "metadata": {},
   "source": [
    "### Loading Data"
   ]
  },
  {
   "cell_type": "code",
   "execution_count": 79,
   "metadata": {},
   "outputs": [],
   "source": [
    "\n",
    "sys.path.insert(1, '../../')\n",
    "import numpy as np, sys, os\n",
    "from getting_data import read_conf\n",
    "\n",
    "sample_name = 'cslg-rand-1000'\n",
    "\n",
    "f_list = [\n",
    "    'title', \n",
    "    'abstract', \n",
    "    'venue', \n",
    "    # 'authors', \n",
    "    'year', \n",
    "    'n_citations'\n",
    "    ]\n",
    "ale_rs = []\n",
    "\n",
    "def replace_quantile(feature_name, quantile):\n",
    "    if feature_name == 'year' or feature_name == 'n_citations':\n",
    "        return quantile\n",
    "    else:\n",
    "        return list(range(len(quantile)))\n",
    "\n",
    "for i in range(len(f_list)):\n",
    "    f1_name = f_list[i]\n",
    "    for j in range(i + 1, len(f_list)):\n",
    "        f2_name = f_list[j]\n",
    "        file = os.path.join('.', 'scores', f'{sample_name}_2w_ale_{f1_name}_{f2_name}.npz')\n",
    "        if os.path.exists(file):\n",
    "            nparr = np.load(file)\n",
    "            quantile_1 = nparr['quantile_1']\n",
    "            quantile_2 = nparr['quantile_2']\n",
    "            ale_result = nparr['ale_result']\n",
    "            \n",
    "            ale = {\n",
    "                'ale': ale_result,\n",
    "                'f1_quantile': replace_quantile(f1_name, quantile_1),\n",
    "                'f2_quantile': replace_quantile(f2_name, quantile_2),\n",
    "                'f1_name': f1_name,\n",
    "                'f2_name': f2_name,\n",
    "            }\n",
    "                \n",
    "            ale_rs.append(ale)\n",
    "              "
   ]
  },
  {
   "cell_type": "markdown",
   "metadata": {},
   "source": [
    "### Ranker"
   ]
  },
  {
   "cell_type": "code",
   "execution_count": 80,
   "metadata": {},
   "outputs": [
    {
     "data": {
      "image/png": "[encoded data removed]",
      "text/plain": [
       "<Figure size 504x360 with 2 Axes>"
      ]
     },
     "metadata": {
      "needs_background": "light"
     },
     "output_type": "display_data"
    }
   ],
   "source": [
    "import matplotlib.pyplot as plt\n",
    "import matplotlib.colors as mcolors\n",
    "\n",
    "for ale in ale_rs:\n",
    "    fig, ax = plt.subplots(figsize=(7, 5), constrained_layout=True)\n",
    "    im = ax.pcolormesh(ale['f1_quantile'], ale['f2_quantile'], ale['ale'], edgecolors='k', linewidths=0)\n",
    "    ax.set_xlabel(ale['f1_name'], fontsize=16, labelpad=10)\n",
    "    ax.set_ylabel(ale['f2_name'], fontsize=16, labelpad=10)\n",
    "    fig.colorbar(im, ax=ax, shrink=0.6)"
   ]
  }
 ],
 "metadata": {
  "interpreter": {
   "hash": "95782f0c9ee5b97dbf2799274c790bf49d18fbd65a93ea5eafd5fcb7da831e5b"
  },
  "kernelspec": {
   "display_name": "Python 3.10.0 64-bit ('3.10.0')",
   "language": "python",
   "name": "python3"
  },
  "language_info": {
   "codemirror_mode": {
    "name": "ipython",
    "version": 3
   },
   "file_extension": ".py",
   "mimetype": "text/x-python",
   "name": "python",
   "nbconvert_exporter": "python",
   "pygments_lexer": "ipython3",
   "version": "3.10.0"
  },
  "orig_nbformat": 4
 },
 "nbformat": 4,
 "nbformat_minor": 2
}
