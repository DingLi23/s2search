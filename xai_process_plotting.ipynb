{
 "cells": [
  {
   "cell_type": "code",
   "execution_count": null,
   "metadata": {},
   "outputs": [],
   "source": [
    "import os\n",
    "\n",
    "ds_list = [\n",
    "    'cslg', 'cscv', 'csai', 'csit', 'cscl',\n",
    "    'cscr', 'csds', 'cssy', 'csni', 'csro',\n",
    "    'csdc', 'cssi', 'cslo', 'csna', 'cscy',\n",
    "    'csdm', 'csir', 'csne', 'csse', 'cscc',\n",
    "    'cshc', 'csgt', 'cssd', 'csdb', 'cscg',\n",
    "    'cspl', 'csma', 'csce', 'csfl', 'csdl',\n",
    "    'csmm', 'csgr', 'cspf', 'csar', 'cset', \n",
    "    'csoh', 'cssc', 'csms',\n",
    "]"
   ]
  }
 ],
 "metadata": {
  "language_info": {
   "name": "python"
  },
  "orig_nbformat": 4
 },
 "nbformat": 4,
 "nbformat_minor": 2
}
